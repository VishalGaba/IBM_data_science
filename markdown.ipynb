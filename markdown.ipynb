{
 "cells": [
  {
   "cell_type": "markdown",
   "id": "3e7a0a8c",
   "metadata": {},
   "source": [
    "1-notebook.png"
   ]
  },
  {
   "cell_type": "markdown",
   "id": "697a6d4c",
   "metadata": {},
   "source": [
    "2-title.png\n"
   ]
  },
  {
   "cell_type": "markdown",
   "id": "cb07b9c5",
   "metadata": {},
   "source": [
    "3-Intro.png"
   ]
  },
  {
   "cell_type": "markdown",
   "id": "27d60b4d",
   "metadata": {},
   "source": [
    "# Famous data science languages are:"
   ]
  },
  {
   "cell_type": "markdown",
   "id": "e08f3c63",
   "metadata": {},
   "source": [
    "1. Python\n",
    "2. SQL (Structured Query Language)\n",
    "3. R\n",
    "4. Julia \n",
    "5. Javascript\n",
    "6. SCALA\n",
    "7. JAVA\n",
    "8. GO\n",
    "9. MATLAB\n",
    "\n",
    "\n",
    "\n"
   ]
  },
  {
   "cell_type": "markdown",
   "id": "f03a8ad8",
   "metadata": {},
   "source": [
    "# Famous Data science libraries are:"
   ]
  },
  {
   "cell_type": "markdown",
   "id": "fad29a3a",
   "metadata": {},
   "source": [
    "TensorFlow\n",
    "NumPy\n",
    "SciPy \n",
    "Pandas\n",
    "Matplotlib \n",
    "Keras\n",
    "SciKit-Learn\n",
    "PyTorch\n",
    "Scrapy\n",
    "BeautifulSoup"
   ]
  },
  {
   "cell_type": "markdown",
   "id": "3cc9d61b",
   "metadata": {},
   "source": [
    "\n"
   ]
  },
  {
   "cell_type": "markdown",
   "id": "40749ea0",
   "metadata": {},
   "source": []
  },
  {
   "cell_type": "markdown",
   "id": "3a9b5e85",
   "metadata": {},
   "source": [
    "c=a+b"
   ]
  },
  {
   "cell_type": "code",
   "execution_count": 4,
   "id": "ad32388c",
   "metadata": {},
   "outputs": [
    {
     "name": "stdout",
     "output_type": "stream",
     "text": [
      "35\n"
     ]
    }
   ],
   "source": [
    "a=5\n",
    "b=7\n",
    "print(a*b)\n"
   ]
  },
  {
   "cell_type": "markdown",
   "id": "64986836",
   "metadata": {},
   "source": [
    "# Minutes to hours"
   ]
  },
  {
   "cell_type": "code",
   "execution_count": 13,
   "id": "3c3cabdf",
   "metadata": {},
   "outputs": [
    {
     "name": "stdout",
     "output_type": "stream",
     "text": [
      "Enter time in minutes124\n",
      "Hours= 2\n",
      "Minutes= 4\n"
     ]
    }
   ],
   "source": [
    "min=int(input(\"Enter time in minutes\"))\n",
    "h=min//60\n",
    "m=min%60\n",
    "print(\"Hours=\",h)\n",
    "print(\"Minutes=\",m)"
   ]
  },
  {
   "cell_type": "markdown",
   "id": "7e64d870",
   "metadata": {},
   "source": [
    "# Objectives"
   ]
  },
  {
   "cell_type": "markdown",
   "id": "c1a0ddf0",
   "metadata": {},
   "source": [
    "Exercise 2 - Create a markdown cell with the title of the notebook. (1 pt)\n",
    "\n",
    "Exercise 3 - Create a markdown cell for an introduction. (1 pt)\n",
    "\n",
    "Exercise 4 - Create a markdown cell to list data science languages. (3 pts)\n",
    "\n",
    "Exercise 5 - Create a markdown cell to list data science libraries. (3 pts)\n",
    "\n",
    "Exercise 6 - Create a markdown cell with a table of Data Science tools. (3 pts)\n",
    "\n",
    "Exercise 7 - Create a markdown cell introducing arithmetic expression examples. (1 pt)\n",
    "\n",
    "Exercise 8 - Create a code cell to multiply and add numbers. (2 pts)\n",
    "\n",
    "Exercise 9 - Create a code cell to convert minutes to hours. (2 pts)\n",
    "\n",
    "Exercise 10 -Insert a markdown cell to list Objectives. (3 pts)\n",
    "\n",
    "Exercise 11 - Create a markdown cell to indicate the Author’s name. (2 pts)\n",
    "\n",
    "Exercise 12 - Share your notebook through GitHub (3 pts)\n",
    "\n",
    "Exercise 13 - Take a screenshot of the first page of the notebook. (1 pt)"
   ]
  },
  {
   "cell_type": "markdown",
   "id": "6712c0bb",
   "metadata": {},
   "source": [
    "Authors=\"Vishal_Gaba\""
   ]
  },
  {
   "cell_type": "code",
   "execution_count": null,
   "id": "2e0eac96",
   "metadata": {},
   "outputs": [],
   "source": []
  }
 ],
 "metadata": {
  "kernelspec": {
   "display_name": "Python 3 (ipykernel)",
   "language": "python",
   "name": "python3"
  },
  "language_info": {
   "codemirror_mode": {
    "name": "ipython",
    "version": 3
   },
   "file_extension": ".py",
   "mimetype": "text/x-python",
   "name": "python",
   "nbconvert_exporter": "python",
   "pygments_lexer": "ipython3",
   "version": "3.11.2"
  }
 },
 "nbformat": 4,
 "nbformat_minor": 5
}
